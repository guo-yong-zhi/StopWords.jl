{
 "cells": [
  {
   "cell_type": "code",
   "execution_count": null,
   "metadata": {},
   "outputs": [],
   "source": [
    "# https://github.com/stopwords-iso/stopwords-iso"
   ]
  },
  {
   "cell_type": "code",
   "execution_count": 2,
   "metadata": {},
   "outputs": [
    {
     "name": "stderr",
     "output_type": "stream",
     "text": [
      "┌ Warning: could not download https://pkg.julialang.org/registries\n",
      "│   exception = Downloads.RequestError(\"https://pkg.julialang.org/registries\", 28, \"Connection timeout after 30002 ms\", Downloads.Response(nothing, \"https://pkg.julialang.org/registries\", 0, \"\", Pair{String, String}[]))\n",
      "└ @ Pkg.Registry /data/julia-1.9.3/share/julia/stdlib/v1.9/Pkg/src/Registry/Registry.jl:69\n",
      "\u001b[32m\u001b[1m   Resolving\u001b[22m\u001b[39m package versions...\n"
     ]
    },
    {
     "name": "stderr",
     "output_type": "stream",
     "text": [
      "OpenBLAS WARNING - could not determine the L2 cache size on this system, assuming 256k\n"
     ]
    },
    {
     "name": "stderr",
     "output_type": "stream",
     "text": [
      "\u001b[32m\u001b[1m    Updating\u001b[22m\u001b[39m `~/.julia/environments/v1.9/Project.toml`\n",
      "  \u001b[90m[682c06a0] \u001b[39m\u001b[92m+ JSON v0.21.4\u001b[39m\n",
      "\u001b[32m\u001b[1m  No Changes\u001b[22m\u001b[39m to `~/.julia/environments/v1.9/Manifest.toml`\n"
     ]
    },
    {
     "name": "stderr",
     "output_type": "stream",
     "text": [
      "OpenBLAS WARNING - could not determine the L2 cache size on this system, assuming 256k\n"
     ]
    },
    {
     "name": "stderr",
     "output_type": "stream",
     "text": [
      "OpenBLAS WARNING - could not determine the L2 cache size on this system, assuming 256k\n"
     ]
    }
   ],
   "source": [
    "import Pkg; Pkg.add(\"JSON\")\n",
    "using JSON"
   ]
  },
  {
   "cell_type": "code",
   "execution_count": 22,
   "metadata": {},
   "outputs": [
    {
     "data": {
      "text/plain": [
       "normcode (generic function with 2 methods)"
      ]
     },
     "metadata": {},
     "output_type": "display_data"
    }
   ],
   "source": [
    "include(\"iso639code.jl\")"
   ]
  },
  {
   "cell_type": "code",
   "execution_count": 4,
   "metadata": {},
   "outputs": [
    {
     "data": {
      "text/plain": [
       "Dict{String, Any} with 58 entries:\n",
       "  \"cs\" => Any[\"a\", \"aby\", \"ahoj\", \"aj\", \"ale\", \"anebo\", \"ani\", \"aniž\", \"ano\", \"…\n",
       "  \"et\" => Any[\"aga\", \"ei\", \"et\", \"ja\", \"jah\", \"kas\", \"kui\", \"kõik\", \"ma\", \"me\" …\n",
       "  \"tl\" => Any[\"akin\", \"aking\", \"ako\", \"alin\", \"am\", \"amin\", \"aming\", \"ang\", \"an…\n",
       "  \"hy\" => Any[\"այդ\", \"այլ\", \"այն\", \"այս\", \"դու\", \"դուք\", \"եմ\", \"են\", \"ենք\", \"ես…\n",
       "  \"br\" => Any[\"'blam\", \"'d\", \"'m\", \"'r\", \"'ta\", \"'vat\", \"'z\", \"'zo\", \"a\", \"a:\" …\n",
       "  \"gl\" => Any[\"a\", \"alí\", \"ao\", \"aos\", \"aquel\", \"aquela\", \"aquelas\", \"aqueles\",…\n",
       "  \"ar\" => Any[\"،\", \"آض\", \"آمينَ\", \"آه\", \"آهاً\", \"آي\", \"أ\", \"أب\", \"أجل\", \"أجمع\"  ……\n",
       "  \"lv\" => Any[\"aiz\", \"ap\", \"apakš\", \"apakšpus\", \"ar\", \"arī\", \"augšpus\", \"bet\", …\n",
       "  \"yo\" => Any[\"a\", \"an\", \"bá\", \"bí\", \"bẹ̀rẹ̀\", \"fún\", \"fẹ́\", \"gbogbo\", \"inú\", \"jù\"…\n",
       "  \"fr\" => Any[\"a\", \"abord\", \"absolument\", \"afin\", \"ah\", \"ai\", \"aie\", \"aient\", \"…\n",
       "  \"hi\" => Any[\"अंदर\", \"अत\", \"अदि\", \"अप\", \"अपना\", \"अपनि\", \"अपनी\", \"अपने\", \"अभि\", \"अभी\"  …\n",
       "  \"nl\" => Any[\"aan\", \"aangaande\", \"aangezien\", \"achte\", \"achter\", \"achterna\", \"…\n",
       "  \"ko\" => Any[\"!\", \"\\\"\", \"\\$\", \"%\", \"&\", \"'\", \"(\", \")\", \"*\", \"+\"  …  \"＞\", \"？\"…\n",
       "  \"ur\" => Any[\"آئی\", \"آئے\", \"آج\", \"آخر\", \"آخرکبر\", \"آدهی\", \"آًب\", \"آٹھ\", \"آیب\", …\n",
       "  \"ms\" => Any[\"abdul\", \"abdullah\", \"acara\", \"ada\", \"adalah\", \"ahmad\", \"air\", \"a…\n",
       "  \"sl\" => Any[\"a\", \"ali\", \"april\", \"avgust\", \"b\", \"bi\", \"bil\", \"bila\", \"bile\", …\n",
       "  \"ga\" => Any[\"a\", \"ach\", \"ag\", \"agus\", \"an\", \"aon\", \"ar\", \"arna\", \"as\", \"b'\"  …\n",
       "  \"sv\" => Any[\"aderton\", \"adertonde\", \"adjö\", \"aldrig\", \"alla\", \"allas\", \"allt\"…\n",
       "  \"bg\" => Any[\"а\", \"автентичен\", \"аз\", \"ако\", \"ала\", \"бе\", \"без\", \"беше\", \"би\",…\n",
       "  ⋮    => ⋮"
      ]
     },
     "metadata": {},
     "output_type": "display_data"
    }
   ],
   "source": [
    "fn = \"stopwords-iso.json\"\n",
    "json = JSON.parsefile(fn)"
   ]
  },
  {
   "cell_type": "code",
   "execution_count": 28,
   "metadata": {},
   "outputs": [
    {
     "name": "stdout",
     "output_type": "stream",
     "text": [
      "msa: ms => msa\n",
      "msa: id => msa\n",
      "Duplicate: id => msa\n"
     ]
    }
   ],
   "source": [
    "seen = Set{String}()\n",
    "for lang in keys(json)\n",
    "    nl = normcode(lang)\n",
    "    if nl == \"msa\"\n",
    "        println(\"msa: $lang => $nl\")\n",
    "    end\n",
    "    if nl in seen\n",
    "        println(\"Duplicate: $lang => $nl\")\n",
    "    end\n",
    "    push!(seen, nl)\n",
    "end"
   ]
  },
  {
   "cell_type": "code",
   "execution_count": 32,
   "metadata": {},
   "outputs": [],
   "source": [
    "S = Dict{String, Set{String}}()\n",
    "for (lang, words) in json\n",
    "    nl = normcode(lang)\n",
    "    S[nl] = union(get(S, nl, Set{String}()), Set(words))\n",
    "end"
   ]
  },
  {
   "cell_type": "code",
   "execution_count": 38,
   "metadata": {},
   "outputs": [
    {
     "data": {
      "text/plain": [
       "true"
      ]
     },
     "metadata": {},
     "output_type": "display_data"
    }
   ],
   "source": [
    "S[\"msa\"] == Set(union(json[\"id\"], json[\"ms\"]))"
   ]
  },
  {
   "cell_type": "code",
   "execution_count": 41,
   "metadata": {},
   "outputs": [],
   "source": [
    "path = \"stopwords\"\n",
    "mkpath(path)\n",
    "for (lang, words) in S\n",
    "    fn = joinpath(path, \"$lang.txt\")\n",
    "    open(fn, \"w\") do io\n",
    "        for word in sort(collect(words))\n",
    "            println(io, word)\n",
    "        end\n",
    "    end\n",
    "end"
   ]
  },
  {
   "cell_type": "code",
   "execution_count": null,
   "metadata": {},
   "outputs": [],
   "source": []
  }
 ],
 "metadata": {
  "kernelspec": {
   "display_name": "Julia 1.9.3",
   "language": "julia",
   "name": "julia-1.9"
  },
  "language_info": {
   "file_extension": ".jl",
   "mimetype": "application/julia",
   "name": "julia",
   "version": "1.9.3"
  },
  "orig_nbformat": 4
 },
 "nbformat": 4,
 "nbformat_minor": 2
}
